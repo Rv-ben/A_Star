{
 "cells": [
  {
   "cell_type": "code",
   "execution_count": 1,
   "metadata": {},
   "outputs": [
    {
     "name": "stdout",
     "output_type": "stream",
     "text": [
      "{'Arad': 366, 'Bucharest': 0, 'Craiova': 160, 'Dobreta': 242, 'Eforie': 161, 'Fagaras': 178, 'Giurgiu': 77, 'Hirsova': 151, 'Iasi': 226, 'Lugoj': 244, 'Mehadia': 241, 'Neamt': 234, 'Oradea': 380, 'Pitesti': 98, 'RimnicuVilcea': 193, 'Sibiu': 253, 'Timisoara': 329, 'Urziceni': 80, 'Vaslui': 199, 'Zerind': 374}\n"
     ]
    }
   ],
   "source": [
    "dist = open('distances.txt','r') #Open Distance Text File\n",
    "heur = {} #Empty dictionary \n",
    "\n",
    "for x in dist.readlines(): #For ever line where x is the line\n",
    "    x = x.strip('\\n').split('-') #Take out the \\n and split the line into a list\n",
    "    heur.update({x[0]:int(x[1])}) #Update the dictionary {City:hdistance}\n",
    "print(heur) #Print dictionary "
   ]
  },
  {
   "cell_type": "code",
   "execution_count": 2,
   "metadata": {},
   "outputs": [
    {
     "name": "stdout",
     "output_type": "stream",
     "text": [
      "{'Arad': {'Zerind': 75, 'Sibiu': 140, 'Timisoara': 118}, 'Bucharest': {'Fagaras': 211, 'Pitesti': 101, 'Giurgiu': 90, 'Urziceni': 85}, 'Craiova': {'RimnicuVilcea': 146, 'Dobreta': 120, 'Pitesti': 138}, 'Dobreta': {'Mehadia': 75, 'Craiova': 120}, 'Eforie': {'Hirsova': 86}, 'Fagaras': {'Sibiu': 99, 'Bucharest': 211}, 'Giurgiu': {'Bucharest': 90}, 'Hirsova': {'Urziceni': 98, 'Eforie': 86}, 'Iasi': {'Vaslui': 92, 'Neamt': 87}, 'Lugoj': {'Timisoara': 111, 'Mehadia': 70}, 'Mehadia': {'Lugoj': 70, 'Dobreta': 75}, 'Neamt': {'Iasi': 87}, 'Oradea': {'Zerind': 71, 'Sibiu': 151}, 'Pitesti': {'RimnicuVilcea': 97, 'Bucharest': 101, 'Craiova': 138}, 'RimnicuVilcea': {'Sibiu': 80, 'Pitesti': 97, 'Craiova': 146}, 'Sibiu': {'Oradea': 151, 'Arad': 140, 'Fagaras': 99, 'RimnicuVilcea': 80}, 'Timisoara': {'Arad': 118, 'Lugoj': 111}, 'Urziceni': {'Bucharest': 85, 'Hirsova': 98, 'Vaslui': 142}, 'Vaslui': {'Urziceni': 142, 'Iasi': 92}, 'Zerind': {'Oradea': 71, 'Arad': 75}}\n"
     ]
    }
   ],
   "source": [
    "mapFile = open('map.txt','r') #Open map file\n",
    "\n",
    "#Clean data for parse\n",
    "data = mapFile.read() \n",
    "data = data.replace('(','-').replace(')','-').replace(',','')  #Replace () with a - \n",
    "data = data.split('\\n') #Split the data into lines\n",
    "\n",
    "#Map Object for organization\n",
    "cmap = {\n",
    "    \n",
    "}\n",
    "\n",
    "#Iterate all data\n",
    "for x in data:\n",
    "    \n",
    "    x = x.split('-')  #Splits the current line into a list\n",
    "    \n",
    "    #Appends a city object into the cities list \n",
    "    city = {x[0]:{}}\n",
    "    cmap.update(city) # Update dictionary {city:{nodes}}\n",
    "    \n",
    "    nodeweights = {}\n",
    "    #Iterates through the rest of the list to append nodes into the current city object \n",
    "    for i in range(1,len(x)-2,2):\n",
    "        nodeweights.update({x[i]:int(x[i+1])}) #Update nodes into temp dictionary {node:weight}\n",
    "    \n",
    "    #Add nodes into the overarching dictionary {city:{node:weight,node:weight}}\n",
    "    cmap[x[0]].update(nodeweights)\n",
    "    \n",
    "print(cmap)"
   ]
  },
  {
   "cell_type": "code",
   "execution_count": 3,
   "metadata": {},
   "outputs": [
    {
     "name": "stdout",
     "output_type": "stream",
     "text": [
      "146\n"
     ]
    }
   ],
   "source": [
    "print(cmap['Craiova']['RimnicuVilcea']) #Test prints 146"
   ]
  },
  {
   "cell_type": "code",
   "execution_count": 4,
   "metadata": {},
   "outputs": [],
   "source": [
    "#Returns index of an openPath given the city (int)\n",
    "def getPathIndex(pathsList,city):\n",
    "    return [y[0] for y in pathsList].index(city)\n",
    "\n",
    "#Returns the path and removes it from path given a city ((currentCity,f,[visitedCity]))\n",
    "def popPath(pathsList,city):\n",
    "    return pathsList.pop(getPathIndex(pathsList,city))\n"
   ]
  },
  {
   "cell_type": "code",
   "execution_count": 5,
   "metadata": {},
   "outputs": [],
   "source": [
    "\n",
    "\n",
    "'''\n",
    "Struct of path list\n",
    "[(currentCity,f,[vistedCities])]\n",
    "\n",
    "\n",
    "I took a recusive approach to Astar, I really didn't do much research apart from the lecture \n",
    "so I wasnt sure if it was supposed to be recusive \n",
    "\n",
    "I like how elegant recusive functions can be\n",
    "Although the limitations here is memory since we are traversing down the stack, with more thought this can \n",
    "be made more efficent\n",
    "\n",
    "'''\n",
    "\n",
    "def Astar(city,g,currentPath):\n",
    "    \n",
    "    #Append the city to the path list and store the list in p\n",
    "    p = currentPath.copy() #Personally dont like how this creates a new object, definetly can be better\n",
    "    p.append(str(city))\n",
    "    \n",
    "    #Base case: Whem f is min and target city is found\n",
    "    if(city == 'Bucharest'):\n",
    "        return [g,p] # Return [Cost,[Path taken]]\n",
    "    \n",
    "    #Add city to visited list\n",
    "    visited.append(city)\n",
    "    \n",
    "    #Get the cities nodes\n",
    "    nodes = cmap[city]\n",
    "    \n",
    "    \n",
    "    #Pop the expanded node (city) from pathsList\n",
    "    popPath(openPaths,city)\n",
    "    \n",
    "    #iterate and compute f for every node\n",
    "    for node in nodes:\n",
    "        \n",
    "        if node not in visited:\n",
    "            # f = (pathWeight+node weight) + h\n",
    "            f = g + nodes[node] + heur[node] \n",
    "        \n",
    "            #Place new path into the openPath list\n",
    "            openPaths.append((node,f,p))\n",
    "    \n",
    "    #Sort openPaths to find min\n",
    "    sortedPaths = sorted(openPaths, key = lambda x: x[1])\n",
    "    \n",
    "    #Call A* on the least one\n",
    "    found = 0 \n",
    "    for x in sortedPaths:\n",
    "        #if(not found)\n",
    "        if (found == 0):\n",
    "            # Astar(childCity, g = f-h , pathTaken)\n",
    "            found = Astar(x[0], (x[1] - heur[x[0]])  , x[2]) \n",
    "        else:\n",
    "            return found\n",
    "    return found "
   ]
  },
  {
   "cell_type": "code",
   "execution_count": 6,
   "metadata": {},
   "outputs": [
    {
     "name": "stdout",
     "output_type": "stream",
     "text": [
      "Neamt\n",
      "From city: Neamt\n",
      "To city: Bucharest\n",
      "Best route: Neamt - Iasi - Vaslui - Urziceni - Bucharest - \n",
      "Total distance: 406\n"
     ]
    }
   ],
   "source": [
    "openPaths = []\n",
    "visited = []\n",
    "\n",
    "def prettyOutput():\n",
    "    city = input()\n",
    "    \n",
    "    openPaths.clear() #Ensure list are empty\n",
    "    visited.clear()\n",
    "    \n",
    "    #Fence Post Problem fix\n",
    "    openPaths.append((city,0,[]))\n",
    "    \n",
    "    #Call Astar\n",
    "    info = Astar(city,0,[])\n",
    "    \n",
    "    #Pretty Pretty\n",
    "    print('From city: '+ city)\n",
    "    print('To city: Bucharest')\n",
    "    print('Best route: ',end='')\n",
    "    \n",
    "    #For [Path Taken] where x is the name of the city\n",
    "    for x in info[1]:\n",
    "        print(x,end=' - ') #city1-city2-city3\n",
    "    print()\n",
    "        \n",
    "    #Print total   \n",
    "    print('Total distance: '+ str(info[0]))\n",
    "\n",
    "prettyOutput()"
   ]
  },
  {
   "cell_type": "code",
   "execution_count": null,
   "metadata": {},
   "outputs": [],
   "source": []
  },
  {
   "cell_type": "code",
   "execution_count": null,
   "metadata": {},
   "outputs": [],
   "source": []
  }
 ],
 "metadata": {
  "kernelspec": {
   "display_name": "Python 3",
   "language": "python",
   "name": "python3"
  },
  "language_info": {
   "codemirror_mode": {
    "name": "ipython",
    "version": 3
   },
   "file_extension": ".py",
   "mimetype": "text/x-python",
   "name": "python",
   "nbconvert_exporter": "python",
   "pygments_lexer": "ipython3",
   "version": "3.8.3"
  }
 },
 "nbformat": 4,
 "nbformat_minor": 4
}
